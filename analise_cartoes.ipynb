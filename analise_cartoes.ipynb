{
 "cells": [
  {
   "cell_type": "markdown",
   "id": "076b0638",
   "metadata": {},
   "source": [
    "# Análise das transações de cartões de Crédito"
   ]
  },
  {
   "cell_type": "markdown",
   "id": "90972365",
   "metadata": {},
   "source": [
    "## Carregamento dos dados\n",
    "\n",
    "O ETL gerou um banco SQLite no qual faremos uma análise exploratória."
   ]
  },
  {
   "cell_type": "code",
   "execution_count": 1,
   "id": "83326677",
   "metadata": {},
   "outputs": [
    {
     "name": "stdout",
     "output_type": "stream",
     "text": [
      "          datatrimestre    valorPix     valorTED  valorTEC  valorCheque  \\\n",
      "0   2025-03-31 00:00:00  7472953.76  10767686.14      0.00    170637.93   \n",
      "1   2024-12-31 00:00:00  7714129.51  11647265.67      0.00    187486.45   \n",
      "2   2024-09-30 00:00:00  6976429.47  11180217.68      0.00    194330.60   \n",
      "3   2024-06-30 00:00:00  6284296.05  10662555.73      0.00    221553.82   \n",
      "4   2024-03-31 00:00:00  5429305.43   9651625.56    925.26    190457.25   \n",
      "5   2023-12-31 00:00:00  5300155.00  10090921.81   5787.89    221424.78   \n",
      "6   2023-09-30 00:00:00  4469529.57   9960251.89   4156.38    218121.88   \n",
      "7   2023-06-30 00:00:00  3900377.43  10657463.13   4770.74    228408.82   \n",
      "8   2023-03-31 00:00:00  3447198.28   9919602.84   4535.17    240686.19   \n",
      "9   2022-12-31 00:00:00  3342913.94  10382121.63   5609.53    242259.61   \n",
      "10  2022-09-30 00:00:00  2936413.95  10437763.16   3735.46    267090.22   \n",
      "11  2022-06-30 00:00:00  2543384.40  10449574.67   4786.14    271008.09   \n",
      "12  2022-03-31 00:00:00  2067826.55   9507158.34   3865.81    255455.43   \n",
      "13  2021-12-31 00:00:00  1916418.68   9807293.11   5436.19    264298.16   \n",
      "14  2021-09-30 00:00:00  1556916.22   9257046.28   3684.13    271120.34   \n",
      "15  2021-06-30 00:00:00  1105735.20   8566787.27   3894.81    264944.31   \n",
      "16  2021-03-31 00:00:00   625046.52   7894414.16   4352.44    253527.92   \n",
      "17  2020-12-31 00:00:00   149894.91   8036705.32   5137.42    278295.37   \n",
      "18  2020-09-30 00:00:00        0.00   7503982.24   4159.60    259334.88   \n",
      "19  2020-06-30 00:00:00        0.00   6267004.16   4647.32    237873.12   \n",
      "20  2020-03-31 00:00:00        0.00   6652135.13   4829.56    318844.92   \n",
      "21  2019-12-31 00:00:00        0.00   6560042.73   6343.77    372693.66   \n",
      "22  2019-09-30 00:00:00        0.00   6285701.44   5469.66    385735.21   \n",
      "23  2019-06-30 00:00:00        0.00   5700739.79   5506.27    388525.47   \n",
      "24  2019-03-31 00:00:00        0.00   5039380.73   4794.82    375916.28   \n",
      "\n",
      "    valorBoleto  valorDOC  valorCartaoCredito  valorCartaoDebito  \\\n",
      "0    2363246.61      0.00           681006.33          233583.00   \n",
      "1    2530029.04      0.00           729027.23          259929.79   \n",
      "2    2444957.15      0.00           663285.74          241932.98   \n",
      "3    2360384.62      0.00           631805.48          239101.56   \n",
      "4    2248932.13    650.80           607470.96          235111.60   \n",
      "5    2317724.88   4684.98           630191.34          259057.92   \n",
      "6    2296646.03  10131.89           581902.42          240827.84   \n",
      "7    2249016.80  11258.23           561910.94          238172.21   \n",
      "8    2211522.99   7467.11           535520.44          237175.13   \n",
      "9    2259674.53   9584.63           560765.41          264120.64   \n",
      "10   2248416.63  17106.46           521942.27          243632.86   \n",
      "11   2210099.22  17081.53           501514.74          245563.75   \n",
      "12   2032317.14  11976.36           453292.41          230186.87   \n",
      "13   2072053.93  14166.99           467911.25          257458.30   \n",
      "14   2001074.00  22306.75           399054.11          233970.03   \n",
      "15   1839452.36  23158.84           344999.68          214381.06   \n",
      "16   1769759.68  21777.70           310412.13          204752.91   \n",
      "17   1919100.60  38705.14           332987.17          258471.49   \n",
      "18   1959819.72  52156.84           279176.98          228771.89   \n",
      "19   1366623.21  50881.15           224389.54          152246.79   \n",
      "20   1526486.76  30628.55           275659.09          171399.49   \n",
      "21   1579497.09  37728.79           302888.19          193673.01   \n",
      "22   1484836.27  39652.79           272414.67          164735.63   \n",
      "23   1409618.75  34716.55           253161.38          153747.19   \n",
      "24   1468066.32  35812.80           235435.49          151764.67   \n",
      "\n",
      "    valorCartaoPrePago  ...  quantidadeCheque  quantidadeBoleto  \\\n",
      "0             76591.16  ...          37574.43        1396196.84   \n",
      "1             86087.63  ...          41511.28        1459124.83   \n",
      "2             78987.71  ...          44243.73        1466696.69   \n",
      "3             77839.90  ...          44981.97        1439060.28   \n",
      "4             73480.01  ...          46468.88        1422690.12   \n",
      "5             79592.40  ...          52101.15        1452430.16   \n",
      "6             69553.22  ...          54410.39        1487023.50   \n",
      "7             63923.28  ...          56339.37        1494162.30   \n",
      "8             61169.03  ...          57830.55        1510817.52   \n",
      "9             66081.98  ...          62606.24        1522483.64   \n",
      "10            55695.33  ...          68142.99        1538367.06   \n",
      "11            50925.72  ...          70141.14        1517092.79   \n",
      "12            43541.91  ...          71479.43        1490934.41   \n",
      "13            42420.50  ...          77752.86        1497704.81   \n",
      "14            33731.83  ...          80110.80        1493638.16   \n",
      "15            26760.54  ...          75417.98        1431427.43   \n",
      "16            20327.69  ...          79409.62        1386080.60   \n",
      "17            19923.51  ...          91594.82        1472868.82   \n",
      "18            14809.51  ...          86966.27        1389215.55   \n",
      "19             8969.46  ...          85355.07        1256812.05   \n",
      "20             8700.25  ...         115237.83        1184510.67   \n",
      "21             8940.68  ...         134725.84        1190397.80   \n",
      "22             7803.22  ...         138322.67        1155112.73   \n",
      "23             6572.85  ...         138158.92        1076813.11   \n",
      "24             5019.16  ...         139621.22        1020583.81   \n",
      "\n",
      "    quantidadeDOC  quantidadeCartaoCredito  quantidadeCartaoDebito  \\\n",
      "0            0.00               5066800.91              3971969.47   \n",
      "1            0.00               5355789.14              4282401.27   \n",
      "2            0.00               5042306.16              4121806.10   \n",
      "3            0.00               4879707.17              4057958.85   \n",
      "4          662.65               4723437.71              3952365.16   \n",
      "5         4664.79               4813848.35              4238653.32   \n",
      "6        12613.82               4583771.68              4014361.45   \n",
      "7        10328.16               4434832.09              3929786.47   \n",
      "8         7530.90               4189059.28              3835192.13   \n",
      "9         9871.74               4334758.40              4115443.07   \n",
      "10       18047.28               4151713.82              3831079.03   \n",
      "11       17905.10               3974127.06              3778540.37   \n",
      "12       13194.98               3679415.97              3589968.33   \n",
      "13       16716.81               3741214.50              3849208.18   \n",
      "14       27667.96               3311505.26              3526062.88   \n",
      "15       28659.42               2841992.76              3141691.41   \n",
      "16       31687.35               2584404.06              3005004.65   \n",
      "17       58634.44               2672666.45              3483509.40   \n",
      "18       74377.91               2280096.07              2957015.55   \n",
      "19       73763.72               1907929.12              2259584.47   \n",
      "20       43503.55               2492783.10              2757914.17   \n",
      "21       51756.51               2681083.06              3102432.97   \n",
      "22       53387.74               2516328.04              2749305.82   \n",
      "23       47739.37               2324477.29              2524775.40   \n",
      "24       52449.83               2081348.82              2471245.21   \n",
      "\n",
      "    quantidadeCartaoPrePago  quantidadeTransIntrabancaria  \\\n",
      "0                3848116.49                     503454.41   \n",
      "1                3346748.82                     492362.05   \n",
      "2                3139725.38                     426643.94   \n",
      "3                3053641.11                     328614.42   \n",
      "4                2781625.48                     277353.43   \n",
      "5                2974411.01                     376506.86   \n",
      "6                2677826.63                     318802.65   \n",
      "7                2426618.73                     278502.49   \n",
      "8                2237800.76                     256521.02   \n",
      "9                2303423.64                     288403.22   \n",
      "10               1993806.85                     275333.05   \n",
      "11               1750865.66                     270119.42   \n",
      "12               1507246.16                     279217.39   \n",
      "13               1430826.74                     226318.22   \n",
      "14               1603852.67                     244008.40   \n",
      "15               1264916.88                     260756.78   \n",
      "16               1016901.48                     274419.70   \n",
      "17               1056946.56                     348828.24   \n",
      "18                795301.85                     338018.29   \n",
      "19                533545.65                     303062.51   \n",
      "20                577500.51                     293996.77   \n",
      "21                159510.21                     365515.57   \n",
      "22                109323.89                     347495.65   \n",
      "23                 77904.49                     331095.31   \n",
      "24                 58847.58                     307650.07   \n",
      "\n",
      "    quantidadeConvenios  quantidadeDebitoDireto  quantidadeSaques  \n",
      "0             701621.32              2210572.84         602547.40  \n",
      "1             634139.62              3056660.93         658974.39  \n",
      "2             662130.40              3184565.87         664226.23  \n",
      "3             679466.06              2424781.42         698603.67  \n",
      "4             716795.72              2346030.56         683043.00  \n",
      "5             669806.38              2182016.32         752443.80  \n",
      "6             705507.61              1965289.16         758691.59  \n",
      "7             734712.47              1816440.34         778454.00  \n",
      "8             764472.57              1739935.80         662875.26  \n",
      "9             735103.61              1794429.99         742553.43  \n",
      "10            766674.38              1823891.55         725040.40  \n",
      "11            773500.70              1872745.64         876660.30  \n",
      "12            786599.24              1910848.23         838690.74  \n",
      "13            755053.35              1809992.06         919580.38  \n",
      "14            774410.72              1765464.80         918141.51  \n",
      "15            733937.43              1709009.85         924449.90  \n",
      "16            766141.92              1704253.83         926234.05  \n",
      "17            750242.75              1700531.57        1084574.42  \n",
      "18            776086.02              1623252.19        1009737.66  \n",
      "19            752351.43              1542581.41         934644.94  \n",
      "20            860763.75              1522644.97        1034924.99  \n",
      "21            786763.01              1459193.74        1237366.49  \n",
      "22            864138.87              1514404.88        1150223.87  \n",
      "23            811802.76              1418749.18        1114642.78  \n",
      "24            913784.42              1381466.73        1103906.31  \n",
      "\n",
      "[25 rows x 27 columns]\n"
     ]
    }
   ],
   "source": [
    "import sqlite3\n",
    "import pandas as pd\n",
    "\n",
    "# Estabelecer conexão com a base de dados\n",
    "con = sqlite3.connect('src/datasets/etlbcb.db')\n",
    "\n",
    "# Query para selecionar todas as linhas de determinada tabela, como por exemplo \"meios_pagamentos_tri\"\n",
    "query = \"SELECT * FROM meios_pagamentos_tri\"\n",
    "\n",
    "# Usar pandas para ler o resultado da Query SQL num DataFrame\n",
    "df = pd.read_sql(query, con=con)\n",
    "\n",
    "# Mostrar o Display\n",
    "print(df)\n",
    "\n",
    "#Fechar conexão\n",
    "con.close()\n"
   ]
  },
  {
   "cell_type": "markdown",
   "id": "35880a0a",
   "metadata": {},
   "source": [
    "## Estudo das Médias\n",
    "\n",
    "Para entender melhor os dados obtidos vamos gerar a média dos valores."
   ]
  },
  {
   "cell_type": "code",
   "execution_count": 2,
   "id": "e946cf9f",
   "metadata": {},
   "outputs": [
    {
     "name": "stdout",
     "output_type": "stream",
     "text": [
      "Média das transações PIX pro trimestre: R$ 2689556.99\n"
     ]
    }
   ],
   "source": [
    "soma = df ['valorPix'].sum()\n",
    "total = df ['valorPix'].count()\n",
    "\n",
    "print (\"Média das transações PIX pro trimestre: R$\", round(soma/total,2))"
   ]
  },
  {
   "cell_type": "code",
   "execution_count": 3,
   "id": "b0c3e1cd",
   "metadata": {},
   "outputs": [
    {
     "data": {
      "text/plain": [
       "np.float64(430.1963384692981)"
      ]
     },
     "execution_count": 3,
     "metadata": {},
     "output_type": "execute_result"
    }
   ],
   "source": [
    "#Qual a média do valor por transação PIX?\n",
    "\n",
    "soma_valores = df ['valorPix'].sum()*1e3\n",
    "soma_transacoes = df['quantidadePix'].sum()\n",
    "\n",
    "(soma_valores)/(soma_transacoes)\n"
   ]
  },
  {
   "cell_type": "code",
   "execution_count": 4,
   "id": "b82bcbc0",
   "metadata": {},
   "outputs": [
    {
     "data": {
      "text/plain": [
       "np.float64(430.1963384692981)"
      ]
     },
     "execution_count": 4,
     "metadata": {},
     "output_type": "execute_result"
    }
   ],
   "source": [
    "#Utilizando o pandas para resolver\n",
    "\n",
    "soma1 = df['valorPix'].mean()*1e3\n",
    "soma2 = df['quantidadePix'].mean()\n",
    "\n",
    "soma1/soma2"
   ]
  },
  {
   "cell_type": "code",
   "execution_count": 5,
   "id": "40333be3",
   "metadata": {},
   "outputs": [
    {
     "name": "stdout",
     "output_type": "stream",
     "text": [
      "datatrimestre                    object\n",
      "valorPix                        float64\n",
      "valorTED                        float64\n",
      "valorTEC                        float64\n",
      "valorCheque                     float64\n",
      "valorBoleto                     float64\n",
      "valorDOC                        float64\n",
      "valorCartaoCredito              float64\n",
      "valorCartaoDebito               float64\n",
      "valorCartaoPrePago              float64\n",
      "valorTransIntrabancaria         float64\n",
      "valorConvenios                  float64\n",
      "valorDebitoDireto               float64\n",
      "valorSaques                     float64\n",
      "quantidadePix                   float64\n",
      "quantidadeTED                   float64\n",
      "quantidadeTEC                   float64\n",
      "quantidadeCheque                float64\n",
      "quantidadeBoleto                float64\n",
      "quantidadeDOC                   float64\n",
      "quantidadeCartaoCredito         float64\n",
      "quantidadeCartaoDebito          float64\n",
      "quantidadeCartaoPrePago         float64\n",
      "quantidadeTransIntrabancaria    float64\n",
      "quantidadeConvenios             float64\n",
      "quantidadeDebitoDireto          float64\n",
      "quantidadeSaques                float64\n",
      "dtype: object\n",
      "Médias das variáveis numéricas:\n",
      "valorPix                        2.689557e+06\n",
      "valorTED                        8.915418e+06\n",
      "valorTEC                        3.857135e+03\n",
      "valorCheque                     2.632012e+05\n",
      "valorBoleto                     2.006774e+06\n",
      "valorDOC                        1.966540e+04\n",
      "valorCartaoCredito              4.543250e+05\n",
      "valorCartaoDebito               2.221507e+05\n",
      "valorCartaoPrePago              4.349794e+04\n",
      "valorTransIntrabancaria         4.829130e+06\n",
      "valorConvenios                  8.534588e+05\n",
      "valorDebitoDireto               6.873639e+05\n",
      "valorSaques                     6.650695e+05\n",
      "quantidadePix                   6.251929e+06\n",
      "quantidadeTED                   2.823846e+05\n",
      "quantidadeTEC                   1.840450e+03\n",
      "quantidadeCheque                7.802022e+04\n",
      "quantidadeBoleto                1.390090e+06\n",
      "quantidadeDOC                   2.620656e+04\n",
      "quantidadeCartaoCredito         3.626616e+06\n",
      "quantidadeCartaoDebito          3.501891e+06\n",
      "quantidadeCartaoPrePago         1.709089e+06\n",
      "quantidadeTransIntrabancaria    3.205200e+05\n",
      "quantidadeConvenios             7.550403e+05\n",
      "quantidadeDebitoDireto          1.899190e+06\n",
      "quantidadeSaques                8.720493e+05\n",
      "dtype: float64\n"
     ]
    }
   ],
   "source": [
    "# Verifica os tipos de dados para identificar as variáveis numéricas\n",
    "print(df.dtypes)\n",
    "\n",
    "# Filtra apenas as colunas numéricas\n",
    "numericas = df.select_dtypes(include=['int64', 'float64'])\n",
    "\n",
    "# Exibe a média de todas as variáveis numéricas\n",
    "medias = numericas.mean()\n",
    "print(\"Médias das variáveis numéricas:\")\n",
    "print(medias)\n"
   ]
  },
  {
   "cell_type": "markdown",
   "id": "00e5ed78",
   "metadata": {},
   "source": [
    "## Estudo da mediana do valorPix\n",
    "\n",
    "Para encontrar a mediana precisamos ordenar os valores e encontrar os elementos centrais."
   ]
  },
  {
   "cell_type": "markdown",
   "id": "38483a96",
   "metadata": {},
   "source": [
    "Para determinar o elemento central, se o número de elementos for par, usamos a fórmula:\n",
    "$$\\frac{X_\\frac{n}{2} + X_(\\frac {n}{2} + 1)}{2}$$"
   ]
  },
  {
   "cell_type": "code",
   "execution_count": 9,
   "id": "c169db08",
   "metadata": {},
   "outputs": [
    {
     "name": "stdout",
     "output_type": "stream",
     "text": [
      "A lista possui: 25 elementos\n"
     ]
    }
   ],
   "source": [
    "ordenados = df ['valorPix'].sort_values()\n",
    "n = len(ordenados)\n",
    "\n",
    "print(\"A lista possui:\", n, \"elementos\")"
   ]
  },
  {
   "cell_type": "markdown",
   "id": "2203c4d3",
   "metadata": {},
   "source": [
    "Para determinar a mediana devemos encontrar os números que estão na posição 12 e 13, \n",
    "mas as listas em python começam a contar da posição 0, logo a mediana é o valor médio\n",
    "entre os elementos na posição 11 e 12.\n"
   ]
  },
  {
   "cell_type": "code",
   "execution_count": 10,
   "id": "12360a11",
   "metadata": {},
   "outputs": [
    {
     "ename": "KeyError",
     "evalue": "11.5",
     "output_type": "error",
     "traceback": [
      "\u001b[31m---------------------------------------------------------------------------\u001b[39m",
      "\u001b[31mKeyError\u001b[39m                                  Traceback (most recent call last)",
      "\u001b[36mFile \u001b[39m\u001b[32mc:\\Users\\caiob\\Documents\\Caio\\SENAC\\TADS038 1T - 3º Período\\Data Science - Principios e técnicas - Marco\\etlBCB\\.venv\\Lib\\site-packages\\pandas\\core\\indexes\\base.py:3805\u001b[39m, in \u001b[36mIndex.get_loc\u001b[39m\u001b[34m(self, key)\u001b[39m\n\u001b[32m   3804\u001b[39m \u001b[38;5;28;01mtry\u001b[39;00m:\n\u001b[32m-> \u001b[39m\u001b[32m3805\u001b[39m     \u001b[38;5;28;01mreturn\u001b[39;00m \u001b[38;5;28;43mself\u001b[39;49m\u001b[43m.\u001b[49m\u001b[43m_engine\u001b[49m\u001b[43m.\u001b[49m\u001b[43mget_loc\u001b[49m\u001b[43m(\u001b[49m\u001b[43mcasted_key\u001b[49m\u001b[43m)\u001b[49m\n\u001b[32m   3806\u001b[39m \u001b[38;5;28;01mexcept\u001b[39;00m \u001b[38;5;167;01mKeyError\u001b[39;00m \u001b[38;5;28;01mas\u001b[39;00m err:\n",
      "\u001b[36mFile \u001b[39m\u001b[32mindex.pyx:167\u001b[39m, in \u001b[36mpandas._libs.index.IndexEngine.get_loc\u001b[39m\u001b[34m()\u001b[39m\n",
      "\u001b[36mFile \u001b[39m\u001b[32mindex.pyx:175\u001b[39m, in \u001b[36mpandas._libs.index.IndexEngine.get_loc\u001b[39m\u001b[34m()\u001b[39m\n",
      "\u001b[36mFile \u001b[39m\u001b[32mpandas\\\\_libs\\\\index_class_helper.pxi:70\u001b[39m, in \u001b[36mpandas._libs.index.Int64Engine._check_type\u001b[39m\u001b[34m()\u001b[39m\n",
      "\u001b[31mKeyError\u001b[39m: 11.5",
      "\nThe above exception was the direct cause of the following exception:\n",
      "\u001b[31mKeyError\u001b[39m                                  Traceback (most recent call last)",
      "\u001b[36mCell\u001b[39m\u001b[36m \u001b[39m\u001b[32mIn[10]\u001b[39m\u001b[32m, line 1\u001b[39m\n\u001b[32m----> \u001b[39m\u001b[32m1\u001b[39m inf = \u001b[43mordenados\u001b[49m\u001b[43m[\u001b[49m\u001b[43mn\u001b[49m\u001b[43m/\u001b[49m\u001b[32;43m2\u001b[39;49m\u001b[43m \u001b[49m\u001b[43m-\u001b[49m\u001b[43m \u001b[49m\u001b[32;43m1\u001b[39;49m\u001b[43m]\u001b[49m\n\u001b[32m      2\u001b[39m sup = ordenados[n/\u001b[32m2\u001b[39m]\n\u001b[32m      4\u001b[39m mediana = (inf+sup)/\u001b[32m2\u001b[39m\n",
      "\u001b[36mFile \u001b[39m\u001b[32mc:\\Users\\caiob\\Documents\\Caio\\SENAC\\TADS038 1T - 3º Período\\Data Science - Principios e técnicas - Marco\\etlBCB\\.venv\\Lib\\site-packages\\pandas\\core\\series.py:1121\u001b[39m, in \u001b[36mSeries.__getitem__\u001b[39m\u001b[34m(self, key)\u001b[39m\n\u001b[32m   1118\u001b[39m     \u001b[38;5;28;01mreturn\u001b[39;00m \u001b[38;5;28mself\u001b[39m._values[key]\n\u001b[32m   1120\u001b[39m \u001b[38;5;28;01melif\u001b[39;00m key_is_scalar:\n\u001b[32m-> \u001b[39m\u001b[32m1121\u001b[39m     \u001b[38;5;28;01mreturn\u001b[39;00m \u001b[38;5;28;43mself\u001b[39;49m\u001b[43m.\u001b[49m\u001b[43m_get_value\u001b[49m\u001b[43m(\u001b[49m\u001b[43mkey\u001b[49m\u001b[43m)\u001b[49m\n\u001b[32m   1123\u001b[39m \u001b[38;5;66;03m# Convert generator to list before going through hashable part\u001b[39;00m\n\u001b[32m   1124\u001b[39m \u001b[38;5;66;03m# (We will iterate through the generator there to check for slices)\u001b[39;00m\n\u001b[32m   1125\u001b[39m \u001b[38;5;28;01mif\u001b[39;00m is_iterator(key):\n",
      "\u001b[36mFile \u001b[39m\u001b[32mc:\\Users\\caiob\\Documents\\Caio\\SENAC\\TADS038 1T - 3º Período\\Data Science - Principios e técnicas - Marco\\etlBCB\\.venv\\Lib\\site-packages\\pandas\\core\\series.py:1237\u001b[39m, in \u001b[36mSeries._get_value\u001b[39m\u001b[34m(self, label, takeable)\u001b[39m\n\u001b[32m   1234\u001b[39m     \u001b[38;5;28;01mreturn\u001b[39;00m \u001b[38;5;28mself\u001b[39m._values[label]\n\u001b[32m   1236\u001b[39m \u001b[38;5;66;03m# Similar to Index.get_value, but we do not fall back to positional\u001b[39;00m\n\u001b[32m-> \u001b[39m\u001b[32m1237\u001b[39m loc = \u001b[38;5;28;43mself\u001b[39;49m\u001b[43m.\u001b[49m\u001b[43mindex\u001b[49m\u001b[43m.\u001b[49m\u001b[43mget_loc\u001b[49m\u001b[43m(\u001b[49m\u001b[43mlabel\u001b[49m\u001b[43m)\u001b[49m\n\u001b[32m   1239\u001b[39m \u001b[38;5;28;01mif\u001b[39;00m is_integer(loc):\n\u001b[32m   1240\u001b[39m     \u001b[38;5;28;01mreturn\u001b[39;00m \u001b[38;5;28mself\u001b[39m._values[loc]\n",
      "\u001b[36mFile \u001b[39m\u001b[32mc:\\Users\\caiob\\Documents\\Caio\\SENAC\\TADS038 1T - 3º Período\\Data Science - Principios e técnicas - Marco\\etlBCB\\.venv\\Lib\\site-packages\\pandas\\core\\indexes\\base.py:3812\u001b[39m, in \u001b[36mIndex.get_loc\u001b[39m\u001b[34m(self, key)\u001b[39m\n\u001b[32m   3807\u001b[39m     \u001b[38;5;28;01mif\u001b[39;00m \u001b[38;5;28misinstance\u001b[39m(casted_key, \u001b[38;5;28mslice\u001b[39m) \u001b[38;5;129;01mor\u001b[39;00m (\n\u001b[32m   3808\u001b[39m         \u001b[38;5;28misinstance\u001b[39m(casted_key, abc.Iterable)\n\u001b[32m   3809\u001b[39m         \u001b[38;5;129;01mand\u001b[39;00m \u001b[38;5;28many\u001b[39m(\u001b[38;5;28misinstance\u001b[39m(x, \u001b[38;5;28mslice\u001b[39m) \u001b[38;5;28;01mfor\u001b[39;00m x \u001b[38;5;129;01min\u001b[39;00m casted_key)\n\u001b[32m   3810\u001b[39m     ):\n\u001b[32m   3811\u001b[39m         \u001b[38;5;28;01mraise\u001b[39;00m InvalidIndexError(key)\n\u001b[32m-> \u001b[39m\u001b[32m3812\u001b[39m     \u001b[38;5;28;01mraise\u001b[39;00m \u001b[38;5;167;01mKeyError\u001b[39;00m(key) \u001b[38;5;28;01mfrom\u001b[39;00m\u001b[38;5;250m \u001b[39m\u001b[34;01merr\u001b[39;00m\n\u001b[32m   3813\u001b[39m \u001b[38;5;28;01mexcept\u001b[39;00m \u001b[38;5;167;01mTypeError\u001b[39;00m:\n\u001b[32m   3814\u001b[39m     \u001b[38;5;66;03m# If we have a listlike key, _check_indexing_error will raise\u001b[39;00m\n\u001b[32m   3815\u001b[39m     \u001b[38;5;66;03m#  InvalidIndexError. Otherwise we fall through and re-raise\u001b[39;00m\n\u001b[32m   3816\u001b[39m     \u001b[38;5;66;03m#  the TypeError.\u001b[39;00m\n\u001b[32m   3817\u001b[39m     \u001b[38;5;28mself\u001b[39m._check_indexing_error(key)\n",
      "\u001b[31mKeyError\u001b[39m: 11.5"
     ]
    }
   ],
   "source": [
    "inf = ordenados[n/2 - 1]\n",
    "sup = ordenados[n/2]\n",
    "\n",
    "mediana = (inf+sup)/2\n",
    "mediana\n"
   ]
  },
  {
   "cell_type": "markdown",
   "id": "7d8619a7",
   "metadata": {},
   "source": [
    "Para o caso de um número de elementos ímpar a mediana é o valor central:\n",
    "\n",
    "$$ \\frac {X_{n+1}}{2}$$\n",
    "\n",
    "### Cálculo da mediana no Pandas"
   ]
  },
  {
   "cell_type": "code",
   "execution_count": 11,
   "id": "d761fc13",
   "metadata": {},
   "outputs": [
    {
     "data": {
      "text/plain": [
       "np.float64(2067826.55)"
      ]
     },
     "execution_count": 11,
     "metadata": {},
     "output_type": "execute_result"
    }
   ],
   "source": [
    "df['valorPix'].median()"
   ]
  },
  {
   "cell_type": "markdown",
   "id": "3869ffde",
   "metadata": {},
   "source": [
    "## Medidas de Dispersão\n",
    "\n",
    "### Variância\n",
    "\n",
    "É a média das diferenças quadrada entre os valores observados e o valor médio do conjunto de dados. Isso também é conhecido como dispersão média.\n",
    "\n",
    "$$ \\frac {|X_1-\\bar{X}|^2+...+|X_n-\\bar{X}|^2}{n}$$"
   ]
  },
  {
   "cell_type": "code",
   "execution_count": 12,
   "id": "44c6906d",
   "metadata": {},
   "outputs": [
    {
     "data": {
      "text/plain": [
       "np.float64(6899559724979.766)"
      ]
     },
     "execution_count": 12,
     "metadata": {},
     "output_type": "execute_result"
    }
   ],
   "source": [
    "df['valorPix'].var()"
   ]
  },
  {
   "cell_type": "markdown",
   "id": "5a9b27bf",
   "metadata": {},
   "source": [
    "Observação: A variância apresenta valores altos e a unidade de medida é quadrada."
   ]
  },
  {
   "cell_type": "markdown",
   "id": "2d55f9b5",
   "metadata": {},
   "source": [
    "### Desvio Padrão\n",
    "É a raiz quadrada da variância"
   ]
  },
  {
   "cell_type": "code",
   "execution_count": 13,
   "id": "254a80fd",
   "metadata": {},
   "outputs": [
    {
     "data": {
      "text/plain": [
       "np.float64(2626701.3010579953)"
      ]
     },
     "execution_count": 13,
     "metadata": {},
     "output_type": "execute_result"
    }
   ],
   "source": [
    "df['valorPix'].std()"
   ]
  },
  {
   "cell_type": "markdown",
   "id": "4fab369e",
   "metadata": {},
   "source": [
    "Observação: Em muitos casos, 66% dos dados estão a um desvio-padrão da média do seu conjunto de dados."
   ]
  },
  {
   "cell_type": "markdown",
   "id": "00586e74",
   "metadata": {},
   "source": []
  }
 ],
 "metadata": {
  "kernelspec": {
   "display_name": ".venv",
   "language": "python",
   "name": "python3"
  },
  "language_info": {
   "codemirror_mode": {
    "name": "ipython",
    "version": 3
   },
   "file_extension": ".py",
   "mimetype": "text/x-python",
   "name": "python",
   "nbconvert_exporter": "python",
   "pygments_lexer": "ipython3",
   "version": "3.12.10"
  }
 },
 "nbformat": 4,
 "nbformat_minor": 5
}
